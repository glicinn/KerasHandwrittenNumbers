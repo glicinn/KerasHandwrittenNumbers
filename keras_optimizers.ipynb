{
 "cells": [
  {
   "cell_type": "code",
   "execution_count": 2,
   "id": "fb498238",
   "metadata": {
    "ExecuteTime": {
     "end_time": "2024-08-16T14:08:57.398604Z",
     "start_time": "2024-08-16T14:08:57.391621Z"
    }
   },
   "outputs": [],
   "source": [
    "import os\n",
    "os.environ['TF_CPP_MIN_LOG_LEVEL'] = '2'"
   ]
  },
  {
   "cell_type": "code",
   "execution_count": 3,
   "id": "ffbe6503-9f1c-4150-acaf-ff4f58dd77f7",
   "metadata": {
    "ExecuteTime": {
     "end_time": "2024-08-16T14:10:13.013361Z",
     "start_time": "2024-08-16T14:09:00.260148Z"
    }
   },
   "outputs": [],
   "source": [
    "import numpy as np\n",
    "import matplotlib.pyplot as plt\n",
    "from tensorflow.keras.datasets import mnist   # Библиотека базы выборок MNIST\n",
    "from tensorflow import keras\n",
    "from tensorflow.keras.layers import Dense, Flatten"
   ]
  },
  {
   "cell_type": "code",
   "outputs": [],
   "source": [
    "# Выгрузка двнных из библиотеки MNIST\n",
    "\n",
    "(x_train, y_train), (x_test, y_test) = mnist.load_data()"
   ],
   "metadata": {
    "ExecuteTime": {
     "end_time": "2024-08-16T14:26:49.944148Z",
     "start_time": "2024-08-16T14:26:49.834718Z"
    }
   },
   "id": "baafe43d-9d9c-4262-a542-6501bd4d81cd",
   "execution_count": 19
  },
  {
   "cell_type": "code",
   "outputs": [],
   "source": [
    "# Стандартизация входных данных\n",
    "\n",
    "x_train = x_train / 255\n",
    "x_test = x_test / 255\n",
    "\n",
    "y_train_cat = keras.utils.to_categorical(y_train, 10)\n",
    "y_test_cat = keras.utils.to_categorical(y_test, 10)"
   ],
   "metadata": {
    "collapsed": false
   },
   "id": "bfcfb71a-214f-4e24-b623-750b8b57da71",
   "execution_count": 5
  },
  {
   "cell_type": "code",
   "outputs": [],
   "source": [
    "# Ручное разбиение выборки\n",
    "\n",
    "size_val = 10000                                # Размер выборки валидации\n",
    "x_val_split = x_train[:size_val]                # Выделяем первые наблюдения из обучающей выборки\n",
    "y_val_split = y_train_cat[:size_val]            # В выборку валидации\n",
    "\n",
    "x_train_split = x_train[size_val:]              # Выделяем следующие наблюдения для тестовой выборки\n",
    "y_train_split = y_train_cat[size_val:]"
   ],
   "metadata": {
    "ExecuteTime": {
     "end_time": "2024-08-16T14:27:17.784881Z",
     "start_time": "2024-08-16T14:27:17.782804Z"
    }
   },
   "id": "c348e9cf-9fa4-4421-a126-6b6b43b4440d",
   "execution_count": 20
  },
  {
   "cell_type": "code",
   "outputs": [
    {
     "data": {
      "text/plain": "\u001B[1mModel: \"sequential_1\"\u001B[0m\n",
      "text/html": "<pre style=\"white-space:pre;overflow-x:auto;line-height:normal;font-family:Menlo,'DejaVu Sans Mono',consolas,'Courier New',monospace\"><span style=\"font-weight: bold\">Model: \"sequential_1\"</span>\n</pre>\n"
     },
     "metadata": {},
     "output_type": "display_data"
    },
    {
     "data": {
      "text/plain": "┏━━━━━━━━━━━━━━━━━━━━━━━━━━━━━━━━━┳━━━━━━━━━━━━━━━━━━━━━━━━┳━━━━━━━━━━━━━━━┓\n┃\u001B[1m \u001B[0m\u001B[1mLayer (type)                   \u001B[0m\u001B[1m \u001B[0m┃\u001B[1m \u001B[0m\u001B[1mOutput Shape          \u001B[0m\u001B[1m \u001B[0m┃\u001B[1m \u001B[0m\u001B[1m      Param #\u001B[0m\u001B[1m \u001B[0m┃\n┡━━━━━━━━━━━━━━━━━━━━━━━━━━━━━━━━━╇━━━━━━━━━━━━━━━━━━━━━━━━╇━━━━━━━━━━━━━━━┩\n│ flatten_1 (\u001B[38;5;33mFlatten\u001B[0m)             │ (\u001B[38;5;45mNone\u001B[0m, \u001B[38;5;34m784\u001B[0m)            │             \u001B[38;5;34m0\u001B[0m │\n├─────────────────────────────────┼────────────────────────┼───────────────┤\n│ dense_2 (\u001B[38;5;33mDense\u001B[0m)                 │ (\u001B[38;5;45mNone\u001B[0m, \u001B[38;5;34m128\u001B[0m)            │       \u001B[38;5;34m100,480\u001B[0m │\n├─────────────────────────────────┼────────────────────────┼───────────────┤\n│ dense_3 (\u001B[38;5;33mDense\u001B[0m)                 │ (\u001B[38;5;45mNone\u001B[0m, \u001B[38;5;34m10\u001B[0m)             │         \u001B[38;5;34m1,290\u001B[0m │\n└─────────────────────────────────┴────────────────────────┴───────────────┘\n",
      "text/html": "<pre style=\"white-space:pre;overflow-x:auto;line-height:normal;font-family:Menlo,'DejaVu Sans Mono',consolas,'Courier New',monospace\">┏━━━━━━━━━━━━━━━━━━━━━━━━━━━━━━━━━┳━━━━━━━━━━━━━━━━━━━━━━━━┳━━━━━━━━━━━━━━━┓\n┃<span style=\"font-weight: bold\"> Layer (type)                    </span>┃<span style=\"font-weight: bold\"> Output Shape           </span>┃<span style=\"font-weight: bold\">       Param # </span>┃\n┡━━━━━━━━━━━━━━━━━━━━━━━━━━━━━━━━━╇━━━━━━━━━━━━━━━━━━━━━━━━╇━━━━━━━━━━━━━━━┩\n│ flatten_1 (<span style=\"color: #0087ff; text-decoration-color: #0087ff\">Flatten</span>)             │ (<span style=\"color: #00d7ff; text-decoration-color: #00d7ff\">None</span>, <span style=\"color: #00af00; text-decoration-color: #00af00\">784</span>)            │             <span style=\"color: #00af00; text-decoration-color: #00af00\">0</span> │\n├─────────────────────────────────┼────────────────────────┼───────────────┤\n│ dense_2 (<span style=\"color: #0087ff; text-decoration-color: #0087ff\">Dense</span>)                 │ (<span style=\"color: #00d7ff; text-decoration-color: #00d7ff\">None</span>, <span style=\"color: #00af00; text-decoration-color: #00af00\">128</span>)            │       <span style=\"color: #00af00; text-decoration-color: #00af00\">100,480</span> │\n├─────────────────────────────────┼────────────────────────┼───────────────┤\n│ dense_3 (<span style=\"color: #0087ff; text-decoration-color: #0087ff\">Dense</span>)                 │ (<span style=\"color: #00d7ff; text-decoration-color: #00d7ff\">None</span>, <span style=\"color: #00af00; text-decoration-color: #00af00\">10</span>)             │         <span style=\"color: #00af00; text-decoration-color: #00af00\">1,290</span> │\n└─────────────────────────────────┴────────────────────────┴───────────────┘\n</pre>\n"
     },
     "metadata": {},
     "output_type": "display_data"
    },
    {
     "data": {
      "text/plain": "\u001B[1m Total params: \u001B[0m\u001B[38;5;34m101,770\u001B[0m (397.54 KB)\n",
      "text/html": "<pre style=\"white-space:pre;overflow-x:auto;line-height:normal;font-family:Menlo,'DejaVu Sans Mono',consolas,'Courier New',monospace\"><span style=\"font-weight: bold\"> Total params: </span><span style=\"color: #00af00; text-decoration-color: #00af00\">101,770</span> (397.54 KB)\n</pre>\n"
     },
     "metadata": {},
     "output_type": "display_data"
    },
    {
     "data": {
      "text/plain": "\u001B[1m Trainable params: \u001B[0m\u001B[38;5;34m101,770\u001B[0m (397.54 KB)\n",
      "text/html": "<pre style=\"white-space:pre;overflow-x:auto;line-height:normal;font-family:Menlo,'DejaVu Sans Mono',consolas,'Courier New',monospace\"><span style=\"font-weight: bold\"> Trainable params: </span><span style=\"color: #00af00; text-decoration-color: #00af00\">101,770</span> (397.54 KB)\n</pre>\n"
     },
     "metadata": {},
     "output_type": "display_data"
    },
    {
     "data": {
      "text/plain": "\u001B[1m Non-trainable params: \u001B[0m\u001B[38;5;34m0\u001B[0m (0.00 B)\n",
      "text/html": "<pre style=\"white-space:pre;overflow-x:auto;line-height:normal;font-family:Menlo,'DejaVu Sans Mono',consolas,'Courier New',monospace\"><span style=\"font-weight: bold\"> Non-trainable params: </span><span style=\"color: #00af00; text-decoration-color: #00af00\">0</span> (0.00 B)\n</pre>\n"
     },
     "metadata": {},
     "output_type": "display_data"
    },
    {
     "name": "stdout",
     "output_type": "stream",
     "text": [
      "None\n"
     ]
    }
   ],
   "source": [
    "# Создание модели\n",
    "\n",
    "model = keras.Sequential([\n",
    "    Flatten(input_shape=(28, 28, 1)),\n",
    "    Dense(128, activation = \"relu\"),\n",
    "    Dense(10, activation = \"softmax\")\n",
    "])\n",
    "\n",
    "print(model.summary()) # Вывод структуры НС в консоль"
   ],
   "metadata": {
    "ExecuteTime": {
     "end_time": "2024-08-16T14:27:18.043469Z",
     "start_time": "2024-08-16T14:27:17.985064Z"
    }
   },
   "id": "7221e75c-1d42-487c-a44d-981642aaf3d1",
   "execution_count": 21
  },
  {
   "cell_type": "code",
   "outputs": [],
   "source": [
    "#----- Ручное прописание оптимизатора\n",
    "myAdam = keras.optimizers.Adam(learning_rate=0.1 )\n",
    "\n",
    "# Параметр лямбда, ускорение момента, использование нестеровского момента\n",
    "myOpt = keras.optimizers.SGD(learning_rate = 0.1, momentum = 0.0, nesterov = True)\n",
    "\n",
    "model.compile(\n",
    "    optimizer = myOpt,\n",
    "    loss = 'categorical_crossentropy',\n",
    "    metrics = ['accuracy']\n",
    ")"
   ],
   "metadata": {
    "ExecuteTime": {
     "end_time": "2024-08-16T14:20:02.045408Z",
     "start_time": "2024-08-16T14:20:01.998536Z"
    }
   },
   "id": "102fa55d-8809-4e6d-89d5-c94b4a2d7674",
   "execution_count": 15
  },
  {
   "cell_type": "code",
   "outputs": [
    {
     "name": "stdout",
     "output_type": "stream",
     "text": [
      "Epoch 1/5\n",
      "\u001B[1m1500/1500\u001B[0m \u001B[32m━━━━━━━━━━━━━━━━━━━━\u001B[0m\u001B[37m\u001B[0m \u001B[1m1s\u001B[0m 664us/step - accuracy: 0.4983 - loss: 1.3385 - val_accuracy: 0.5131 - val_loss: 1.3288\n",
      "Epoch 2/5\n",
      "\u001B[1m1500/1500\u001B[0m \u001B[32m━━━━━━━━━━━━━━━━━━━━\u001B[0m\u001B[37m\u001B[0m \u001B[1m1s\u001B[0m 602us/step - accuracy: 0.5118 - loss: 1.2709 - val_accuracy: 0.5270 - val_loss: 1.3301\n",
      "Epoch 3/5\n",
      "\u001B[1m1500/1500\u001B[0m \u001B[32m━━━━━━━━━━━━━━━━━━━━\u001B[0m\u001B[37m\u001B[0m \u001B[1m1s\u001B[0m 569us/step - accuracy: 0.5204 - loss: 1.2519 - val_accuracy: 0.5359 - val_loss: 1.2801\n",
      "Epoch 4/5\n",
      "\u001B[1m1500/1500\u001B[0m \u001B[32m━━━━━━━━━━━━━━━━━━━━\u001B[0m\u001B[37m\u001B[0m \u001B[1m1s\u001B[0m 566us/step - accuracy: 0.5255 - loss: 1.2446 - val_accuracy: 0.5422 - val_loss: 1.2376\n",
      "Epoch 5/5\n",
      "\u001B[1m1500/1500\u001B[0m \u001B[32m━━━━━━━━━━━━━━━━━━━━\u001B[0m\u001B[37m\u001B[0m \u001B[1m1s\u001B[0m 580us/step - accuracy: 0.5412 - loss: 1.1969 - val_accuracy: 0.5477 - val_loss: 1.2156\n"
     ]
    },
    {
     "data": {
      "text/plain": "<keras.src.callbacks.history.History at 0x17ef8fcd0>"
     },
     "execution_count": 16,
     "metadata": {},
     "output_type": "execute_result"
    }
   ],
   "source": [
    "# Запуск процесса обучения: 80% - обучающая выборка, 20% - выборка валидации\n",
    "\n",
    "# model.fit(x_train, y_train_cat, batch_size = 32, epochs = 5, validation_split = 0.2)\n",
    "model.fit(x_train, y_train_cat, batch_size = 32, epochs = 5, \n",
    "          validation_data = (x_val_split, y_val_split))\n"
   ],
   "metadata": {
    "ExecuteTime": {
     "end_time": "2024-08-16T14:20:22.172908Z",
     "start_time": "2024-08-16T14:20:17.027061Z"
    }
   },
   "id": "9ec24034-c8d7-41e8-958e-ae0d03007a8a",
   "execution_count": 16
  },
  {
   "cell_type": "code",
   "outputs": [
    {
     "name": "stdout",
     "output_type": "stream",
     "text": [
      "\u001B[1m313/313\u001B[0m \u001B[32m━━━━━━━━━━━━━━━━━━━━\u001B[0m\u001B[37m\u001B[0m \u001B[1m0s\u001B[0m 385us/step - accuracy: 0.5303 - loss: 1.3467\n"
     ]
    },
    {
     "data": {
      "text/plain": "[1.25619637966156, 0.5493999719619751]"
     },
     "execution_count": 17,
     "metadata": {},
     "output_type": "execute_result"
    }
   ],
   "source": [
    "# Запуск тестовой выборки\n",
    "\n",
    "model.evaluate(x_test, y_test_cat)"
   ],
   "metadata": {
    "ExecuteTime": {
     "end_time": "2024-08-16T14:20:30.433080Z",
     "start_time": "2024-08-16T14:20:30.177090Z"
    }
   },
   "id": "065fe15a-0940-4c2f-8223-7a433585f62d",
   "execution_count": 17
  },
  {
   "cell_type": "code",
   "outputs": [
    {
     "name": "stdout",
     "output_type": "stream",
     "text": [
      "\u001B[1m1/1\u001B[0m \u001B[32m━━━━━━━━━━━━━━━━━━━━\u001B[0m\u001B[37m\u001B[0m \u001B[1m0s\u001B[0m 23ms/step\n",
      "[[0.04847921 0.01883788 0.1010645  0.06150677 0.17005624 0.16650915\n",
      "  0.0337912  0.04312623 0.178124   0.17850485]]\n",
      "Распознанная цифра: 9\n"
     ]
    },
    {
     "data": {
      "text/plain": "<Figure size 640x480 with 1 Axes>",
      "image/png": "[encoded data removed]"
     },
     "metadata": {},
     "output_type": "display_data"
    }
   ],
   "source": [
    "# Проверка распознавания цифр при помощи конкретного изображения \n",
    "\n",
    "n = 12\n",
    "x = np.expand_dims(x_test[n], axis = 0)\n",
    "res = model.predict(x)\n",
    "print(res)\n",
    "print(f'Распознанная цифра: {np.argmax(res)}')\n",
    "\n",
    "plt.imshow(x_test[n], cmap=plt.cm.binary)\n",
    "plt.show()"
   ],
   "metadata": {
    "ExecuteTime": {
     "end_time": "2024-08-16T14:20:35.169587Z",
     "start_time": "2024-08-16T14:20:35.051834Z"
    }
   },
   "id": "efe68bcd-032b-4834-a426-94df12025eb4",
   "execution_count": 18
  }
 ],
 "metadata": {
  "kernelspec": {
   "display_name": "Python 3 (ipykernel)",
   "language": "python",
   "name": "python3"
  },
  "language_info": {
   "codemirror_mode": {
    "name": "ipython",
    "version": 3
   },
   "file_extension": ".py",
   "mimetype": "text/x-python",
   "name": "python",
   "nbconvert_exporter": "python",
   "pygments_lexer": "ipython3",
   "version": "3.11.5"
  }
 },
 "nbformat": 4,
 "nbformat_minor": 5
}
